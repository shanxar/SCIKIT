{
  "nbformat": 4,
  "nbformat_minor": 0,
  "metadata": {
    "colab": {
      "provenance": [],
      "authorship_tag": "ABX9TyMlBRG3nrrnglsuLtgkwn+Q",
      "include_colab_link": true
    },
    "kernelspec": {
      "name": "python3",
      "display_name": "Python 3"
    },
    "language_info": {
      "name": "python"
    }
  },
  "cells": [
    {
      "cell_type": "markdown",
      "metadata": {
        "id": "view-in-github",
        "colab_type": "text"
      },
      "source": [
        "<a href=\"https://colab.research.google.com/github/shanxar/SCIKIT/blob/main/sk_kmeans.ipynb\" target=\"_parent\"><img src=\"https://colab.research.google.com/assets/colab-badge.svg\" alt=\"Open In Colab\"/></a>"
      ]
    },
    {
      "cell_type": "code",
      "execution_count": 21,
      "metadata": {
        "colab": {
          "base_uri": "https://localhost:8080/"
        },
        "id": "nHyh_cKZy6ZR",
        "outputId": "9cc348bc-1eb4-4c40-d0a2-11318ace7525"
      },
      "outputs": [
        {
          "output_type": "stream",
          "name": "stdout",
          "text": [
            "Path to dataset files: /kaggle/input/customer-segmentation-tutorial-in-python\n"
          ]
        }
      ],
      "source": [
        "import kagglehub\n",
        "\n",
        "path = kagglehub.dataset_download(\"vjchoudhary7/customer-segmentation-tutorial-in-python\")\n",
        "\n",
        "print(\"Path to dataset files:\", path)"
      ]
    },
    {
      "cell_type": "code",
      "source": [
        "import os\n",
        "\n",
        "path=os.path.join(path,os.listdir(path)[0])\n",
        "print(path)"
      ],
      "metadata": {
        "colab": {
          "base_uri": "https://localhost:8080/"
        },
        "id": "K9iA8p54y_th",
        "outputId": "ccebd489-99bf-45e3-cfdd-40e20408c176"
      },
      "execution_count": 22,
      "outputs": [
        {
          "output_type": "stream",
          "name": "stdout",
          "text": [
            "/kaggle/input/customer-segmentation-tutorial-in-python/Mall_Customers.csv\n"
          ]
        }
      ]
    },
    {
      "cell_type": "code",
      "source": [
        "import pandas as pd\n",
        "from sklearn.model_selection import train_test_split\n",
        "\n",
        "#STEP 1: LOAD DATA\n",
        "df=pd.read_csv(path)\n",
        "\n",
        "print(df.columns)\n",
        "\n",
        "filtered_columns=[\"income\",\"score\"]\n",
        "df.rename(columns={\"Annual Income (k$)\":filtered_columns[0],\"Spending Score (1-100)\":filtered_columns[1]},inplace=True) #rename for convennience\n",
        "\n",
        "assert all(col in df.columns for col in filtered_columns), \"Not renamed properly\"\n",
        "\n",
        "#for now ,starters using two features for eassy visualization\n",
        "new_df=df[filtered_columns]\n",
        "print(new_df)\n",
        "\n"
      ],
      "metadata": {
        "colab": {
          "base_uri": "https://localhost:8080/"
        },
        "id": "pCpE3or4zBEJ",
        "outputId": "3c432e35-bed0-43df-da46-7b80524015d4"
      },
      "execution_count": 23,
      "outputs": [
        {
          "output_type": "stream",
          "name": "stdout",
          "text": [
            "Index(['CustomerID', 'Gender', 'Age', 'Annual Income (k$)',\n",
            "       'Spending Score (1-100)'],\n",
            "      dtype='object')\n",
            "     income  score\n",
            "0        15     39\n",
            "1        15     81\n",
            "2        16      6\n",
            "3        16     77\n",
            "4        17     40\n",
            "..      ...    ...\n",
            "195     120     79\n",
            "196     126     28\n",
            "197     126     74\n",
            "198     137     18\n",
            "199     137     83\n",
            "\n",
            "[200 rows x 2 columns]\n"
          ]
        }
      ]
    },
    {
      "cell_type": "code",
      "source": [
        "#STEP 2 : NORMALIZE\n",
        "\n",
        "from sklearn.preprocessing import StandardScaler\n",
        "\n",
        "scaler=StandardScaler()\n",
        "scaled_df=scaler.fit_transform(new_df)\n",
        "\n",
        "print(scaled_df)\n"
      ],
      "metadata": {
        "colab": {
          "base_uri": "https://localhost:8080/"
        },
        "id": "phx3dexj2Gk7",
        "outputId": "df8dad84-8cda-4c44-ed04-e1a5804c0b47"
      },
      "execution_count": 24,
      "outputs": [
        {
          "output_type": "stream",
          "name": "stdout",
          "text": [
            "[[-1.73899919 -0.43480148]\n",
            " [-1.73899919  1.19570407]\n",
            " [-1.70082976 -1.71591298]\n",
            " [-1.70082976  1.04041783]\n",
            " [-1.66266033 -0.39597992]\n",
            " [-1.66266033  1.00159627]\n",
            " [-1.62449091 -1.71591298]\n",
            " [-1.62449091  1.70038436]\n",
            " [-1.58632148 -1.83237767]\n",
            " [-1.58632148  0.84631002]\n",
            " [-1.58632148 -1.4053405 ]\n",
            " [-1.58632148  1.89449216]\n",
            " [-1.54815205 -1.36651894]\n",
            " [-1.54815205  1.04041783]\n",
            " [-1.54815205 -1.44416206]\n",
            " [-1.54815205  1.11806095]\n",
            " [-1.50998262 -0.59008772]\n",
            " [-1.50998262  0.61338066]\n",
            " [-1.43364376 -0.82301709]\n",
            " [-1.43364376  1.8556706 ]\n",
            " [-1.39547433 -0.59008772]\n",
            " [-1.39547433  0.88513158]\n",
            " [-1.3573049  -1.75473454]\n",
            " [-1.3573049   0.88513158]\n",
            " [-1.24279661 -1.4053405 ]\n",
            " [-1.24279661  1.23452563]\n",
            " [-1.24279661 -0.7065524 ]\n",
            " [-1.24279661  0.41927286]\n",
            " [-1.20462718 -0.74537397]\n",
            " [-1.20462718  1.42863343]\n",
            " [-1.16645776 -1.7935561 ]\n",
            " [-1.16645776  0.88513158]\n",
            " [-1.05194947 -1.7935561 ]\n",
            " [-1.05194947  1.62274124]\n",
            " [-1.05194947 -1.4053405 ]\n",
            " [-1.05194947  1.19570407]\n",
            " [-1.01378004 -1.28887582]\n",
            " [-1.01378004  0.88513158]\n",
            " [-0.89927175 -0.93948177]\n",
            " [-0.89927175  0.96277471]\n",
            " [-0.86110232 -0.59008772]\n",
            " [-0.86110232  1.62274124]\n",
            " [-0.82293289 -0.55126616]\n",
            " [-0.82293289  0.41927286]\n",
            " [-0.82293289 -0.86183865]\n",
            " [-0.82293289  0.5745591 ]\n",
            " [-0.78476346  0.18634349]\n",
            " [-0.78476346 -0.12422899]\n",
            " [-0.78476346 -0.3183368 ]\n",
            " [-0.78476346 -0.3183368 ]\n",
            " [-0.70842461  0.06987881]\n",
            " [-0.70842461  0.38045129]\n",
            " [-0.67025518  0.14752193]\n",
            " [-0.67025518  0.38045129]\n",
            " [-0.67025518 -0.20187212]\n",
            " [-0.67025518 -0.35715836]\n",
            " [-0.63208575 -0.00776431]\n",
            " [-0.63208575 -0.16305055]\n",
            " [-0.55574689  0.03105725]\n",
            " [-0.55574689 -0.16305055]\n",
            " [-0.55574689  0.22516505]\n",
            " [-0.55574689  0.18634349]\n",
            " [-0.51757746  0.06987881]\n",
            " [-0.51757746  0.34162973]\n",
            " [-0.47940803  0.03105725]\n",
            " [-0.47940803  0.34162973]\n",
            " [-0.47940803 -0.00776431]\n",
            " [-0.47940803 -0.08540743]\n",
            " [-0.47940803  0.34162973]\n",
            " [-0.47940803 -0.12422899]\n",
            " [-0.4412386   0.18634349]\n",
            " [-0.4412386  -0.3183368 ]\n",
            " [-0.40306917 -0.04658587]\n",
            " [-0.40306917  0.22516505]\n",
            " [-0.25039146 -0.12422899]\n",
            " [-0.25039146  0.14752193]\n",
            " [-0.25039146  0.10870037]\n",
            " [-0.25039146 -0.08540743]\n",
            " [-0.25039146  0.06987881]\n",
            " [-0.25039146 -0.3183368 ]\n",
            " [-0.25039146  0.03105725]\n",
            " [-0.25039146  0.18634349]\n",
            " [-0.25039146 -0.35715836]\n",
            " [-0.25039146 -0.24069368]\n",
            " [-0.25039146  0.26398661]\n",
            " [-0.25039146 -0.16305055]\n",
            " [-0.13588317  0.30280817]\n",
            " [-0.13588317  0.18634349]\n",
            " [-0.09771374  0.38045129]\n",
            " [-0.09771374 -0.16305055]\n",
            " [-0.05954431  0.18634349]\n",
            " [-0.05954431 -0.35715836]\n",
            " [-0.02137488 -0.04658587]\n",
            " [-0.02137488 -0.39597992]\n",
            " [-0.02137488 -0.3183368 ]\n",
            " [-0.02137488  0.06987881]\n",
            " [-0.02137488 -0.12422899]\n",
            " [-0.02137488 -0.00776431]\n",
            " [ 0.01679455 -0.3183368 ]\n",
            " [ 0.01679455 -0.04658587]\n",
            " [ 0.05496398 -0.35715836]\n",
            " [ 0.05496398 -0.08540743]\n",
            " [ 0.05496398  0.34162973]\n",
            " [ 0.05496398  0.18634349]\n",
            " [ 0.05496398  0.22516505]\n",
            " [ 0.05496398 -0.3183368 ]\n",
            " [ 0.09313341 -0.00776431]\n",
            " [ 0.09313341 -0.16305055]\n",
            " [ 0.09313341 -0.27951524]\n",
            " [ 0.09313341 -0.08540743]\n",
            " [ 0.09313341  0.06987881]\n",
            " [ 0.09313341  0.14752193]\n",
            " [ 0.13130284 -0.3183368 ]\n",
            " [ 0.13130284 -0.16305055]\n",
            " [ 0.16947227 -0.08540743]\n",
            " [ 0.16947227 -0.00776431]\n",
            " [ 0.16947227 -0.27951524]\n",
            " [ 0.16947227  0.34162973]\n",
            " [ 0.24581112 -0.27951524]\n",
            " [ 0.24581112  0.26398661]\n",
            " [ 0.24581112  0.22516505]\n",
            " [ 0.24581112 -0.39597992]\n",
            " [ 0.32214998  0.30280817]\n",
            " [ 0.32214998  1.58391968]\n",
            " [ 0.36031941 -0.82301709]\n",
            " [ 0.36031941  1.04041783]\n",
            " [ 0.39848884 -0.59008772]\n",
            " [ 0.39848884  1.73920592]\n",
            " [ 0.39848884 -1.52180518]\n",
            " [ 0.39848884  0.96277471]\n",
            " [ 0.39848884 -1.5994483 ]\n",
            " [ 0.39848884  0.96277471]\n",
            " [ 0.43665827 -0.62890928]\n",
            " [ 0.43665827  0.80748846]\n",
            " [ 0.4748277  -1.75473454]\n",
            " [ 0.4748277   1.46745499]\n",
            " [ 0.4748277  -1.67709142]\n",
            " [ 0.4748277   0.88513158]\n",
            " [ 0.51299713 -1.56062674]\n",
            " [ 0.51299713  0.84631002]\n",
            " [ 0.55116656 -1.75473454]\n",
            " [ 0.55116656  1.6615628 ]\n",
            " [ 0.58933599 -0.39597992]\n",
            " [ 0.58933599  1.42863343]\n",
            " [ 0.62750542 -1.48298362]\n",
            " [ 0.62750542  1.81684904]\n",
            " [ 0.62750542 -0.55126616]\n",
            " [ 0.62750542  0.92395314]\n",
            " [ 0.66567484 -1.09476801]\n",
            " [ 0.66567484  1.54509812]\n",
            " [ 0.66567484 -1.28887582]\n",
            " [ 0.66567484  1.46745499]\n",
            " [ 0.66567484 -1.17241113]\n",
            " [ 0.66567484  1.00159627]\n",
            " [ 0.66567484 -1.32769738]\n",
            " [ 0.66567484  1.50627656]\n",
            " [ 0.66567484 -1.91002079]\n",
            " [ 0.66567484  1.07923939]\n",
            " [ 0.66567484 -1.91002079]\n",
            " [ 0.66567484  0.88513158]\n",
            " [ 0.70384427 -0.59008772]\n",
            " [ 0.70384427  1.27334719]\n",
            " [ 0.78018313 -1.75473454]\n",
            " [ 0.78018313  1.6615628 ]\n",
            " [ 0.93286085 -0.93948177]\n",
            " [ 0.93286085  0.96277471]\n",
            " [ 0.97103028 -1.17241113]\n",
            " [ 0.97103028  1.73920592]\n",
            " [ 1.00919971 -0.90066021]\n",
            " [ 1.00919971  0.49691598]\n",
            " [ 1.00919971 -1.44416206]\n",
            " [ 1.00919971  0.96277471]\n",
            " [ 1.00919971 -1.56062674]\n",
            " [ 1.00919971  1.62274124]\n",
            " [ 1.04736914 -1.44416206]\n",
            " [ 1.04736914  1.38981187]\n",
            " [ 1.04736914 -1.36651894]\n",
            " [ 1.04736914  0.72984534]\n",
            " [ 1.23821628 -1.4053405 ]\n",
            " [ 1.23821628  1.54509812]\n",
            " [ 1.390894   -0.7065524 ]\n",
            " [ 1.390894    1.38981187]\n",
            " [ 1.42906343 -1.36651894]\n",
            " [ 1.42906343  1.46745499]\n",
            " [ 1.46723286 -0.43480148]\n",
            " [ 1.46723286  1.81684904]\n",
            " [ 1.54357172 -1.01712489]\n",
            " [ 1.54357172  0.69102378]\n",
            " [ 1.61991057 -1.28887582]\n",
            " [ 1.61991057  1.35099031]\n",
            " [ 1.61991057 -1.05594645]\n",
            " [ 1.61991057  0.72984534]\n",
            " [ 2.00160487 -1.63826986]\n",
            " [ 2.00160487  1.58391968]\n",
            " [ 2.26879087 -1.32769738]\n",
            " [ 2.26879087  1.11806095]\n",
            " [ 2.49780745 -0.86183865]\n",
            " [ 2.49780745  0.92395314]\n",
            " [ 2.91767117 -1.25005425]\n",
            " [ 2.91767117  1.27334719]]\n"
          ]
        }
      ]
    },
    {
      "cell_type": "code",
      "source": [
        "#STEP 3 : CLUSTERING\n",
        "\n",
        "from sklearn.cluster import KMeans\n",
        "\n",
        "kmeans_obj=KMeans(n_clusters=5,random_state=22) #manually chose n=5\n",
        "\n",
        "kmeans_obj.fit(scaled_df)\n",
        "\n",
        "#ASSIGN THE CALCULATED CLUSTER TO EACH ROWS\n",
        "new_df['Cluster']=kmeans_obj.labels_\n",
        "print(new_df['Cluster'])"
      ],
      "metadata": {
        "colab": {
          "base_uri": "https://localhost:8080/"
        },
        "id": "kUV1fBpA3NWs",
        "outputId": "638c4844-a403-4c0d-9901-3ea7f9cf2b31"
      },
      "execution_count": 25,
      "outputs": [
        {
          "output_type": "stream",
          "name": "stdout",
          "text": [
            "0      2\n",
            "1      0\n",
            "2      2\n",
            "3      0\n",
            "4      2\n",
            "      ..\n",
            "195    4\n",
            "196    3\n",
            "197    4\n",
            "198    3\n",
            "199    4\n",
            "Name: Cluster, Length: 200, dtype: int32\n"
          ]
        }
      ]
    },
    {
      "cell_type": "code",
      "source": [
        "#STEP4 : VISUALIZE\n",
        "\n",
        "import matplotlib.pyplot as plt\n",
        "\n",
        "plt.figure(figsize=(10,10))\n",
        "\n",
        "\n",
        "for i in range(5):\n",
        "  cluster_data=new_df[new_df['Cluster']==i]\n",
        "  plt.scatter(cluster_data['income'],cluster_data['score'],label= f\"Cluster  : {i}\",marker=\".\")\n",
        "\n",
        "plt.legend()\n",
        "plt.grid(True)\n",
        "plt.show()"
      ],
      "metadata": {
        "colab": {
          "base_uri": "https://localhost:8080/",
          "height": 830
        },
        "id": "HDTFTE4u4YcH",
        "outputId": "0ed3e087-8a7e-4a45-8240-d2d32c536719"
      },
      "execution_count": 26,
      "outputs": [
        {
          "output_type": "display_data",
          "data": {
            "text/plain": [
              "<Figure size 1000x1000 with 1 Axes>"
            ],
            "image/png": "[encoded data removed]"
          },
          "metadata": {}
        }
      ]
    },
    {
      "cell_type": "code",
      "source": [
        "#STEP 5: GROUP BY\n",
        "\n",
        "group_by=new_df.groupby('Cluster')[[\"income\",\"score\"]].mean()\n",
        "\n",
        "print(group_by)"
      ],
      "metadata": {
        "colab": {
          "base_uri": "https://localhost:8080/"
        },
        "id": "WLJIG6xB5qA3",
        "outputId": "2ccdf5b7-b087-49ba-fa2b-75fae3b3e73c"
      },
      "execution_count": 27,
      "outputs": [
        {
          "output_type": "stream",
          "name": "stdout",
          "text": [
            "            income      score\n",
            "Cluster                      \n",
            "0        25.727273  79.363636\n",
            "1        55.296296  49.518519\n",
            "2        26.304348  20.913043\n",
            "3        88.200000  17.114286\n",
            "4        86.538462  82.128205\n"
          ]
        }
      ]
    },
    {
      "cell_type": "markdown",
      "source": [
        "STEP 6 : INFERENCING\n",
        "\n",
        "From our result we infer the following\n",
        "\n",
        "\n",
        "\n",
        "1.Cluster 0 - Low income but high spending\n",
        "\n",
        "\n",
        "2.Cluster 1 - Average income and average spending\n",
        "\n",
        "\n",
        "3.Cluster 2 - Low income and low spending\n",
        "\n",
        "\n",
        "4.Cluster 3 - High income but low spending\n",
        "\n",
        "\n",
        "5.Cluster 4 - High income and high spending\n",
        "\n",
        "\n",
        "\n",
        "\n",
        "**Business insight:**\n",
        "\n",
        "Cluster 4 is highly valuable\n",
        "\n",
        "\n",
        "Cluster 3 is potent high spending group, need some marketing to attract them\n",
        "\n",
        "\n",
        "Cluster 1 are consistent\n",
        "\n",
        "\n"
      ],
      "metadata": {
        "id": "wjBNDHHF6Jt-"
      }
    },
    {
      "cell_type": "code",
      "source": [],
      "metadata": {
        "id": "q4r8Gt_i6QYw"
      },
      "execution_count": 27,
      "outputs": []
    }
  ]
}
