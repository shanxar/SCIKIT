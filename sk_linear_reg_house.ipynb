{
  "nbformat": 4,
  "nbformat_minor": 0,
  "metadata": {
    "colab": {
      "provenance": [],
      "authorship_tag": "ABX9TyOh0VV0IU2MQVo/OwAOfhkW",
      "include_colab_link": true
    },
    "kernelspec": {
      "name": "python3",
      "display_name": "Python 3"
    },
    "language_info": {
      "name": "python"
    }
  },
  "cells": [
    {
      "cell_type": "markdown",
      "metadata": {
        "id": "view-in-github",
        "colab_type": "text"
      },
      "source": [
        "<a href=\"https://colab.research.google.com/github/shanxar/SCIKIT/blob/main/sk_linear_reg_house.ipynb\" target=\"_parent\"><img src=\"https://colab.research.google.com/assets/colab-badge.svg\" alt=\"Open In Colab\"/></a>"
      ]
    },
    {
      "cell_type": "code",
      "execution_count": 2,
      "metadata": {
        "colab": {
          "base_uri": "https://localhost:8080/"
        },
        "id": "54gFPkHmyVhx",
        "outputId": "cbc98074-8a4f-4ad2-c197-e254920d996a"
      },
      "outputs": [
        {
          "output_type": "stream",
          "name": "stdout",
          "text": [
            "Path to dataset files: /kaggle/input/ames-housing-dataset\n"
          ]
        }
      ],
      "source": [
        "import kagglehub\n",
        "\n",
        "path = kagglehub.dataset_download(\"prevek18/ames-housing-dataset\")\n",
        "\n",
        "print(\"Path to dataset files:\", path)"
      ]
    },
    {
      "cell_type": "code",
      "source": [
        "import os\n",
        "\n",
        "path=os.path.join(path,os.listdir(path)[0])\n",
        "print(path)"
      ],
      "metadata": {
        "colab": {
          "base_uri": "https://localhost:8080/"
        },
        "id": "FleVoGtW-1gO",
        "outputId": "5ad8c383-d96f-49bd-8746-794a98ab28d4"
      },
      "execution_count": 3,
      "outputs": [
        {
          "output_type": "stream",
          "name": "stdout",
          "text": [
            "/kaggle/input/ames-housing-dataset/AmesHousing.csv\n"
          ]
        }
      ]
    },
    {
      "cell_type": "code",
      "source": [
        "import pandas as pd\n",
        "from sklearn.model_selection import train_test_split\n",
        "\n",
        "#STEP 1: LOAD DATA\n",
        "df=pd.read_csv(path)\n",
        "\n",
        "print(df.columns)\n",
        "\n",
        "df.dropna(inplace=True,axis=1) #remove na columns\n",
        "\n",
        "#STEP 2: SPLIT FEATURES AND LABELS\n",
        "\n",
        "X=df.drop('SalePrice',axis=1)\n",
        "Y=df['SalePrice']\n",
        "\n",
        "\n",
        "#STEP 3 : TEST TRAIN SPLITS\n",
        "X_train,X_test,Y_train,Y_test=train_test_split(X,Y,test_size=0.3,random_state=33)\n",
        "\n",
        "print(df.dtypes.value_counts())\n"
      ],
      "metadata": {
        "colab": {
          "base_uri": "https://localhost:8080/"
        },
        "id": "sZCcwMVB_mot",
        "outputId": "3d54180c-2679-4be3-c5e0-43306eaef7f9"
      },
      "execution_count": 4,
      "outputs": [
        {
          "output_type": "stream",
          "name": "stdout",
          "text": [
            "Index(['Order', 'PID', 'MS SubClass', 'MS Zoning', 'Lot Frontage', 'Lot Area',\n",
            "       'Street', 'Alley', 'Lot Shape', 'Land Contour', 'Utilities',\n",
            "       'Lot Config', 'Land Slope', 'Neighborhood', 'Condition 1',\n",
            "       'Condition 2', 'Bldg Type', 'House Style', 'Overall Qual',\n",
            "       'Overall Cond', 'Year Built', 'Year Remod/Add', 'Roof Style',\n",
            "       'Roof Matl', 'Exterior 1st', 'Exterior 2nd', 'Mas Vnr Type',\n",
            "       'Mas Vnr Area', 'Exter Qual', 'Exter Cond', 'Foundation', 'Bsmt Qual',\n",
            "       'Bsmt Cond', 'Bsmt Exposure', 'BsmtFin Type 1', 'BsmtFin SF 1',\n",
            "       'BsmtFin Type 2', 'BsmtFin SF 2', 'Bsmt Unf SF', 'Total Bsmt SF',\n",
            "       'Heating', 'Heating QC', 'Central Air', 'Electrical', '1st Flr SF',\n",
            "       '2nd Flr SF', 'Low Qual Fin SF', 'Gr Liv Area', 'Bsmt Full Bath',\n",
            "       'Bsmt Half Bath', 'Full Bath', 'Half Bath', 'Bedroom AbvGr',\n",
            "       'Kitchen AbvGr', 'Kitchen Qual', 'TotRms AbvGrd', 'Functional',\n",
            "       'Fireplaces', 'Fireplace Qu', 'Garage Type', 'Garage Yr Blt',\n",
            "       'Garage Finish', 'Garage Cars', 'Garage Area', 'Garage Qual',\n",
            "       'Garage Cond', 'Paved Drive', 'Wood Deck SF', 'Open Porch SF',\n",
            "       'Enclosed Porch', '3Ssn Porch', 'Screen Porch', 'Pool Area', 'Pool QC',\n",
            "       'Fence', 'Misc Feature', 'Misc Val', 'Mo Sold', 'Yr Sold', 'Sale Type',\n",
            "       'Sale Condition', 'SalePrice'],\n",
            "      dtype='object')\n",
            "int64     28\n",
            "object    27\n",
            "Name: count, dtype: int64\n"
          ]
        }
      ]
    },
    {
      "cell_type": "code",
      "source": [
        "#STEP 4 : NORMALIZE AND LABEL THE FEATURES\n",
        "\n",
        "from sklearn.compose import ColumnTransformer\n",
        "from sklearn.preprocessing  import OneHotEncoder,StandardScaler\n",
        "\n",
        "#4.1 split the numerical and categorical columns\n",
        "print(len(X_train.columns))\n",
        "num_columns= X_train.select_dtypes(include=[\"int64\",\"float64\"]).columns.tolist()\n",
        "cat_columns=X_train.select_dtypes(include=\"object\").columns.tolist()\n",
        "\n",
        "\n",
        "print(len(num_columns)+len(cat_columns))#to check  all the columns are retained and seperated\n",
        "\n",
        "\n",
        "#4.2 : create column transformer instance\n",
        "\n",
        "col_trans=ColumnTransformer([\n",
        "                            (\"num\",StandardScaler(),num_columns),\n",
        "                            (\"cat\",OneHotEncoder(sparse_output=False,handle_unknown=\"ignore\"),cat_columns)\n",
        "])\n",
        "\n",
        "#Got \"Found unknown categories ['NoSeWa'] in column 5 during transform\" error.\n",
        "#which means \"NoSeWa\" value in a feature was not found in train dataset, but found in test dataset.\n",
        "#Hence we apply handle_unknown=ignore\n",
        "\n",
        "X_train_preprocessed= col_trans.fit_transform(X_train) #returns numpy.ndarray\n",
        "X_test_preprocessed=col_trans.transform(X_test)\n",
        "\n",
        "print(type(X_train_preprocessed))\n"
      ],
      "metadata": {
        "colab": {
          "base_uri": "https://localhost:8080/"
        },
        "id": "qEPMfzN0A1_2",
        "outputId": "a7563b08-322b-4b69-ee43-f10da3ba4ada"
      },
      "execution_count": 5,
      "outputs": [
        {
          "output_type": "stream",
          "name": "stdout",
          "text": [
            "54\n",
            "54\n",
            "<class 'numpy.ndarray'>\n"
          ]
        }
      ]
    },
    {
      "cell_type": "code",
      "source": [
        "#STEP 5: CONVERT THEM BACK  TO DATAFRAME\n",
        "\n",
        "column_names=col_trans.get_feature_names_out()\n",
        "X_train_preprocessed=pd.DataFrame(X_train_preprocessed,columns=column_names)\n",
        "X_test_preprocessed=pd.DataFrame(X_test_preprocessed,columns=column_names)\n",
        "\n",
        "print(type(X_train_preprocessed))"
      ],
      "metadata": {
        "colab": {
          "base_uri": "https://localhost:8080/"
        },
        "id": "ZeCop5w-JROx",
        "outputId": "1db97daa-9ffc-439f-8966-525a7db1cca5"
      },
      "execution_count": 6,
      "outputs": [
        {
          "output_type": "stream",
          "name": "stdout",
          "text": [
            "<class 'pandas.core.frame.DataFrame'>\n"
          ]
        }
      ]
    },
    {
      "cell_type": "code",
      "source": [
        "\n",
        "#STEP 6 : TRAIN MODEL\n",
        "\n",
        "from sklearn.linear_model import LinearRegression\n",
        "from sklearn.metrics import root_mean_squared_error,r2_score\n",
        "import numpy as np\n",
        "\n",
        "lr_model=LinearRegression()\n",
        "lr_model.fit(X_train_preprocessed,Y_train)\n",
        "\n",
        "#STEP 7 : DO PREDICTION\n",
        "\n",
        "y_pred=lr_model.predict(X_test_preprocessed)\n",
        "y_pred=np.round(y_pred)\n",
        "print(f\"Y PREDICTED :\\n {y_pred[:5]}\")\n",
        "\n",
        "#STEP 8 : EVALUATION USING RMSE AND R square\n",
        "\n",
        "lr_model_rmse=root_mean_squared_error(Y_test,y_pred)\n",
        "print(f\"RMSE :{round(lr_model_rmse,2)} \")\n",
        "lr_model_r2=r2_score(Y_test,y_pred)\n",
        "print(f\"R-square score :\",round(lr_model_r2,2))\n"
      ],
      "metadata": {
        "colab": {
          "base_uri": "https://localhost:8080/"
        },
        "id": "HfdFgIwqKNhs",
        "outputId": "fbee1734-1bd6-449d-8d74-ac232083fe04"
      },
      "execution_count": 7,
      "outputs": [
        {
          "output_type": "stream",
          "name": "stdout",
          "text": [
            "Y PREDICTED :\n",
            " [177911. 128776. 169029. 175654.  84806.]\n",
            "RMSE :29885.53 \n",
            "R-square score : 0.88\n"
          ]
        }
      ]
    },
    {
      "cell_type": "code",
      "source": [
        "#STEP 9 : DETERMINE FEATURE IMPORTANCE\n",
        "#Get co-eff values\n",
        "co_eff=lr_model.coef_ # gives numpy ndarray of shape 214 ( means 214 rows (214,1))\n",
        "co_eff=co_eff.reshape(1,-1)\n",
        "co_eff_df=pd.DataFrame(co_eff)\n",
        "\n",
        "#Get abs co-eff value\n",
        "co_eff=lr_model.coef_ # gives numpy ndarray of shape 214 ( means 214 rows (214,1))\n",
        "abs_co_eff=np.abs(co_eff).reshape(1,-1)\n",
        "abs_co_eff_df=pd.DataFrame(abs_co_eff)\n",
        "\n",
        "#Get feature names\n",
        "feature_names=list(X_train_preprocessed.columns)\n",
        "\n",
        "#map feature names\n",
        "co_eff_df.columns=feature_names\n",
        "abs_co_eff_df.columns=feature_names\n",
        "\n",
        "print(f\"CO_EFF VALUES:\\n {co_eff_df}\\n\")\n",
        "print(f\"ABS CO_EFF VALUES:\\n {abs_co_eff_df}\\n\")"
      ],
      "metadata": {
        "colab": {
          "base_uri": "https://localhost:8080/"
        },
        "id": "kb8ZnWCY0dqB",
        "outputId": "fe0e08dc-5b2f-4989-db6c-1d62b905230c"
      },
      "execution_count": 26,
      "outputs": [
        {
          "output_type": "stream",
          "name": "stdout",
          "text": [
            "TYPEEEEE: <class 'numpy.ndarray'>\n",
            "CO_EFF VALUES:\n",
            "    num__Order     num__PID  num__MS SubClass  num__Lot Area  \\\n",
            "0 -3809.47306  2598.016859      -2966.348995    5773.851931   \n",
            "\n",
            "   num__Overall Qual  num__Overall Cond  num__Year Built  num__Year Remod/Add  \\\n",
            "0       12984.049456        5402.717347     13408.414487          1263.696593   \n",
            "\n",
            "   num__1st Flr SF  num__2nd Flr SF  ...  cat__Sale Type_New  \\\n",
            "0     13022.033749     10323.476507  ...         9092.728537   \n",
            "\n",
            "   cat__Sale Type_Oth  cat__Sale Type_VWD  cat__Sale Type_WD   \\\n",
            "0         7267.492262       -11074.383737        -9972.964503   \n",
            "\n",
            "   cat__Sale Condition_Abnorml  cat__Sale Condition_AdjLand  \\\n",
            "0                 -8742.353008                  15359.14052   \n",
            "\n",
            "   cat__Sale Condition_Alloca  cat__Sale Condition_Family  \\\n",
            "0                 5739.754174                -7651.719104   \n",
            "\n",
            "   cat__Sale Condition_Normal  cat__Sale Condition_Partial  \n",
            "0                  192.563342                 -4897.385923  \n",
            "\n",
            "[1 rows x 214 columns]\n",
            "\n",
            "ABS CO_EFF VALUES:\n",
            "    num__Order     num__PID  num__MS SubClass  num__Lot Area  \\\n",
            "0  3809.47306  2598.016859       2966.348995    5773.851931   \n",
            "\n",
            "   num__Overall Qual  num__Overall Cond  num__Year Built  num__Year Remod/Add  \\\n",
            "0       12984.049456        5402.717347     13408.414487          1263.696593   \n",
            "\n",
            "   num__1st Flr SF  num__2nd Flr SF  ...  cat__Sale Type_New  \\\n",
            "0     13022.033749     10323.476507  ...         9092.728537   \n",
            "\n",
            "   cat__Sale Type_Oth  cat__Sale Type_VWD  cat__Sale Type_WD   \\\n",
            "0         7267.492262        11074.383737         9972.964503   \n",
            "\n",
            "   cat__Sale Condition_Abnorml  cat__Sale Condition_AdjLand  \\\n",
            "0                  8742.353008                  15359.14052   \n",
            "\n",
            "   cat__Sale Condition_Alloca  cat__Sale Condition_Family  \\\n",
            "0                 5739.754174                 7651.719104   \n",
            "\n",
            "   cat__Sale Condition_Normal  cat__Sale Condition_Partial  \n",
            "0                  192.563342                  4897.385923  \n",
            "\n",
            "[1 rows x 214 columns]\n",
            "\n"
          ]
        }
      ]
    },
    {
      "cell_type": "code",
      "source": [
        "#get top 5 coeff and their feature names\n",
        "\n",
        "co_eff=np.abs(lr_model.coef_)\n",
        "feature_names=list(X_train_preprocessed.columns)\n",
        "abs_co_eff_df=pd.DataFrame(co_eff)\n",
        "abs_co_eff_df.index=feature_names\n",
        "abs_co_eff_df.columns=[\"co_eff\"]\n",
        "\n",
        "sorted_co_eff_df=abs_co_eff_df.sort_values(by=\"co_eff\",ascending=False)\n",
        "top_5=sorted_co_eff_df.head(5)\n",
        "\n",
        "import matplotlib.pyplot as plt\n",
        "\n",
        "# Make sure inputs are lists and lengths match\n",
        "feature_names = list(feature_names)\n",
        "plt.figure(figsize=(15,15))\n",
        "print(top_5['co_eff'])\n",
        "plt.bar(top_5.index,top_5['co_eff'],color=\"black\")\n",
        "plt.show()"
      ],
      "metadata": {
        "colab": {
          "base_uri": "https://localhost:8080/",
          "height": 1000
        },
        "outputId": "ccb59012-1226-48bc-8504-054309873188",
        "id": "Rx6stGvnjVN4"
      },
      "execution_count": 50,
      "outputs": [
        {
          "output_type": "stream",
          "name": "stdout",
          "text": [
            "cat__Roof Matl_ClyTile       423586.069945\n",
            "cat__Roof Matl_Metal         137129.205823\n",
            "cat__Roof Matl_WdShngl       101799.979223\n",
            "cat__Neighborhood_GrnHill     94093.513481\n",
            "cat__Roof Matl_Tar&Grv        67634.364842\n",
            "Name: co_eff, dtype: float64\n"
          ]
        },
        {
          "output_type": "display_data",
          "data": {
            "text/plain": [
              "<Figure size 1500x1500 with 1 Axes>"
            ],
            "image/png": "[encoded data removed]"
          },
          "metadata": {}
        }
      ]
    }
  ]
}