{
  "nbformat": 4,
  "nbformat_minor": 0,
  "metadata": {
    "colab": {
      "provenance": [],
      "authorship_tag": "ABX9TyOOD1UFjMml0gk3qJBl/orI",
      "include_colab_link": true
    },
    "kernelspec": {
      "name": "python3",
      "display_name": "Python 3"
    },
    "language_info": {
      "name": "python"
    }
  },
  "cells": [
    {
      "cell_type": "markdown",
      "metadata": {
        "id": "view-in-github",
        "colab_type": "text"
      },
      "source": [
        "<a href=\"https://colab.research.google.com/github/shanxar/SCIKIT/blob/main/sk_heart.ipynb\" target=\"_parent\"><img src=\"https://colab.research.google.com/assets/colab-badge.svg\" alt=\"Open In Colab\"/></a>"
      ]
    },
    {
      "cell_type": "markdown",
      "source": [
        "# **USING HEART FAILURE DATASET , PERFORM SUPERVISED BINARY CLASSIFICATION TASK **"
      ],
      "metadata": {
        "id": "bo_9IIUtXqng"
      }
    },
    {
      "cell_type": "markdown",
      "source": [
        "**WE USE LOGISITC REGRESSION MODEL **"
      ],
      "metadata": {
        "id": "hId64zPSpU20"
      }
    },
    {
      "cell_type": "code",
      "source": [
        "import kagglehub\n",
        "\n",
        "path = kagglehub.dataset_download(\"oxcolaa/heart-failure-prediction-dataset\")\n",
        "\n",
        "print(\"Path to dataset files:\", path)"
      ],
      "metadata": {
        "colab": {
          "base_uri": "https://localhost:8080/"
        },
        "id": "rO5TbmmYYVeT",
        "outputId": "b3e809cd-e563-4398-c66c-67e63580f148"
      },
      "execution_count": 21,
      "outputs": [
        {
          "output_type": "stream",
          "name": "stdout",
          "text": [
            "Path to dataset files: /kaggle/input/heart-failure-prediction-dataset\n"
          ]
        }
      ]
    },
    {
      "cell_type": "code",
      "source": [
        "import os\n",
        "print(os.listdir(path))"
      ],
      "metadata": {
        "colab": {
          "base_uri": "https://localhost:8080/"
        },
        "id": "EvKjbowWY5Iv",
        "outputId": "e644b513-c198-4355-d593-cbd72b3e0252"
      },
      "execution_count": 22,
      "outputs": [
        {
          "output_type": "stream",
          "name": "stdout",
          "text": [
            "['heart.xls']\n"
          ]
        }
      ]
    },
    {
      "cell_type": "code",
      "source": [
        "import pandas as pd\n",
        "\n",
        "#STEP 1: LOAD DATA\n",
        "\n",
        "df=pd.read_csv(os.path.join(path,\"heart.xls\"))\n",
        "print(f\"DATASET \\n {df}\\n\")\n",
        "\n",
        "#STEP2: SPLIT FEATURES  AND LABELS\n",
        "print(f\"DATASET COLUMNS   : {df.columns}\\n\")\n",
        "X=df.drop(\"HeartDisease\",axis=1)\n",
        "Y=df['HeartDisease']\n",
        "print(f\"X FEATURES :\\n {X}\\n\")\n",
        "print(f\"Y LABELS :\\n {Y}\\n\")\n"
      ],
      "metadata": {
        "colab": {
          "base_uri": "https://localhost:8080/"
        },
        "id": "SB5zBIDfY_pC",
        "outputId": "0febe53e-a4c9-4e53-cbf6-50ab0be7baf8"
      },
      "execution_count": 23,
      "outputs": [
        {
          "output_type": "stream",
          "name": "stdout",
          "text": [
            "DATASET \n",
            "      Age Sex ChestPainType  RestingBP  Cholesterol  FastingBS RestingECG  \\\n",
            "0     40   M           ATA        140          289          0     Normal   \n",
            "1     49   F           NAP        160          180          0     Normal   \n",
            "2     37   M           ATA        130          283          0         ST   \n",
            "3     48   F           ASY        138          214          0     Normal   \n",
            "4     54   M           NAP        150          195          0     Normal   \n",
            "..   ...  ..           ...        ...          ...        ...        ...   \n",
            "913   45   M            TA        110          264          0     Normal   \n",
            "914   68   M           ASY        144          193          1     Normal   \n",
            "915   57   M           ASY        130          131          0     Normal   \n",
            "916   57   F           ATA        130          236          0        LVH   \n",
            "917   38   M           NAP        138          175          0     Normal   \n",
            "\n",
            "     MaxHR ExerciseAngina  Oldpeak ST_Slope  HeartDisease  \n",
            "0      172              N      0.0       Up             0  \n",
            "1      156              N      1.0     Flat             1  \n",
            "2       98              N      0.0       Up             0  \n",
            "3      108              Y      1.5     Flat             1  \n",
            "4      122              N      0.0       Up             0  \n",
            "..     ...            ...      ...      ...           ...  \n",
            "913    132              N      1.2     Flat             1  \n",
            "914    141              N      3.4     Flat             1  \n",
            "915    115              Y      1.2     Flat             1  \n",
            "916    174              N      0.0     Flat             1  \n",
            "917    173              N      0.0       Up             0  \n",
            "\n",
            "[918 rows x 12 columns]\n",
            "\n",
            "DATASET COLUMNS   : Index(['Age', 'Sex', 'ChestPainType', 'RestingBP', 'Cholesterol', 'FastingBS',\n",
            "       'RestingECG', 'MaxHR', 'ExerciseAngina', 'Oldpeak', 'ST_Slope',\n",
            "       'HeartDisease'],\n",
            "      dtype='object')\n",
            "\n",
            "X FEATURES :\n",
            "      Age Sex ChestPainType  RestingBP  Cholesterol  FastingBS RestingECG  \\\n",
            "0     40   M           ATA        140          289          0     Normal   \n",
            "1     49   F           NAP        160          180          0     Normal   \n",
            "2     37   M           ATA        130          283          0         ST   \n",
            "3     48   F           ASY        138          214          0     Normal   \n",
            "4     54   M           NAP        150          195          0     Normal   \n",
            "..   ...  ..           ...        ...          ...        ...        ...   \n",
            "913   45   M            TA        110          264          0     Normal   \n",
            "914   68   M           ASY        144          193          1     Normal   \n",
            "915   57   M           ASY        130          131          0     Normal   \n",
            "916   57   F           ATA        130          236          0        LVH   \n",
            "917   38   M           NAP        138          175          0     Normal   \n",
            "\n",
            "     MaxHR ExerciseAngina  Oldpeak ST_Slope  \n",
            "0      172              N      0.0       Up  \n",
            "1      156              N      1.0     Flat  \n",
            "2       98              N      0.0       Up  \n",
            "3      108              Y      1.5     Flat  \n",
            "4      122              N      0.0       Up  \n",
            "..     ...            ...      ...      ...  \n",
            "913    132              N      1.2     Flat  \n",
            "914    141              N      3.4     Flat  \n",
            "915    115              Y      1.2     Flat  \n",
            "916    174              N      0.0     Flat  \n",
            "917    173              N      0.0       Up  \n",
            "\n",
            "[918 rows x 11 columns]\n",
            "\n",
            "Y LABELS :\n",
            " 0      0\n",
            "1      1\n",
            "2      0\n",
            "3      1\n",
            "4      0\n",
            "      ..\n",
            "913    1\n",
            "914    1\n",
            "915    1\n",
            "916    1\n",
            "917    0\n",
            "Name: HeartDisease, Length: 918, dtype: int64\n",
            "\n"
          ]
        }
      ]
    },
    {
      "cell_type": "code",
      "source": [
        "#STEP 3 : SPLIT X ,Y TRAIN AND TEST\n",
        "\n",
        "from sklearn.model_selection import train_test_split\n",
        "\n",
        "X_train,X_test,Y_train,Y_test=train_test_split(X,Y,test_size=0.3,random_state=20)\n",
        "\n",
        "print(f\"X_train Shape : {X_train.shape}\")\n",
        "print(f\"Y_train Shape : {Y_train.shape}\")\n",
        "print(X_train.columns)\n",
        "print(Y_train.name)\n"
      ],
      "metadata": {
        "colab": {
          "base_uri": "https://localhost:8080/"
        },
        "id": "aCV5DyYbaogt",
        "outputId": "4e8e41a2-99b2-4590-b812-c0005acdcd57"
      },
      "execution_count": 28,
      "outputs": [
        {
          "output_type": "stream",
          "name": "stdout",
          "text": [
            "X_train Shape : (642, 11)\n",
            "Y_train Shape : (642,)\n",
            "Index(['Age', 'Sex', 'ChestPainType', 'RestingBP', 'Cholesterol', 'FastingBS',\n",
            "       'RestingECG', 'MaxHR', 'ExerciseAngina', 'Oldpeak', 'ST_Slope'],\n",
            "      dtype='object')\n",
            "HeartDisease\n"
          ]
        }
      ]
    },
    {
      "cell_type": "code",
      "source": [
        "#STEP 4 : GOTTA NORMALIZE THE NUMERICAL FEATURES AND ENCODE THE CATEGROICAL STRING FEATURES\n",
        "\n",
        "from sklearn.compose import ColumnTransformer\n",
        "from sklearn.preprocessing import LabelEncoder,StandardScaler,OneHotEncoder\n",
        "\n",
        "#split the numerical columns and string columns\n",
        "#use X_train for this, cus we dont want to take label column to consideration\n",
        "num_cols= X_train.select_dtypes(include=\"int64\").columns.tolist()\n",
        "cat_cols=X_train.select_dtypes(include=\"object\").columns.tolist()\n",
        "print(f\"NUMERICAL COLUMNS : {num_cols}\\nCATEGORICAL COLUMNS : {cat_cols}\\n\")\n",
        "\n",
        "#USE COLUMN TRANFORMER TO APPLY ENCODING FOR CATEGORICAL COLS AND NORMMALIZING FOR NUM COLUMNS\n",
        "\n",
        "col_trans=ColumnTransformer([\n",
        "                            (\"num\",StandardScaler(),num_cols),\n",
        "                            (\"cat\",OneHotEncoder(sparse_output=False),cat_cols)\n",
        "])\n",
        "\n",
        "X_train_preprocessed= col_trans.fit_transform(X_train)\n",
        "X_test_preprocessed= col_trans.transform(X_test) #These return numpy ndarray\n",
        "\n",
        "#STEP  5 : CONNVERT BACKK TO DATAFRAME\n",
        "#Get col names of the numpy ndarray (X_train_preprocessed and x_test_preprocesed)\n",
        "col_names=col_trans.get_feature_names_out()\n",
        "print(col_names)\n",
        "\n",
        "#Create Dataframe out of it\n",
        "\n",
        "X_train_preprocessed=pd.DataFrame(X_train_preprocessed,columns=col_names)\n",
        "print(X_train_preprocessed)\n",
        "\n",
        "X_test_preprocessed=pd.DataFrame(X_test_preprocessed,columns=col_names)\n",
        "print(X_test_preprocessed)"
      ],
      "metadata": {
        "colab": {
          "base_uri": "https://localhost:8080/"
        },
        "id": "Nn-ywkGXcN2l",
        "outputId": "c93bbc05-6a9a-4106-e5a4-340dfa3e6e49"
      },
      "execution_count": 43,
      "outputs": [
        {
          "output_type": "stream",
          "name": "stdout",
          "text": [
            "NUMERICAL COLUMNS : ['Age', 'RestingBP', 'Cholesterol', 'FastingBS', 'MaxHR']\n",
            "CATEGORICAL COLUMNS : ['Sex', 'ChestPainType', 'RestingECG', 'ExerciseAngina', 'ST_Slope']\n",
            "\n",
            "['num__Age' 'num__RestingBP' 'num__Cholesterol' 'num__FastingBS'\n",
            " 'num__MaxHR' 'cat__Sex_F' 'cat__Sex_M' 'cat__ChestPainType_ASY'\n",
            " 'cat__ChestPainType_ATA' 'cat__ChestPainType_NAP' 'cat__ChestPainType_TA'\n",
            " 'cat__RestingECG_LVH' 'cat__RestingECG_Normal' 'cat__RestingECG_ST'\n",
            " 'cat__ExerciseAngina_N' 'cat__ExerciseAngina_Y' 'cat__ST_Slope_Down'\n",
            " 'cat__ST_Slope_Flat' 'cat__ST_Slope_Up']\n",
            "     num__Age  num__RestingBP  num__Cholesterol  num__FastingBS  num__MaxHR  \\\n",
            "0    1.606756        0.208655         -1.851913       -0.552158   -1.300036   \n",
            "1    0.442134        0.900525          0.176358       -0.552158   -0.753868   \n",
            "2   -0.193114        1.698837         -1.851913        1.811077   -0.597820   \n",
            "3    0.865633       -0.163890          0.287496       -0.552158    0.338469   \n",
            "4   -1.145986       -0.696098          0.843187       -0.552158    0.689577   \n",
            "..        ...             ...               ...             ...         ...   \n",
            "637  0.124510        0.368318         -0.036657       -0.552158    0.494517   \n",
            "638 -2.204733       -0.696098          0.908018       -0.552158    1.859938   \n",
            "639 -2.310608       -1.494409         -0.018134       -0.552158    1.079697   \n",
            "640  0.865633       -0.110669         -1.851913       -0.552158   -0.285724   \n",
            "641  1.395006        0.634421         -1.851913       -0.552158   -0.480784   \n",
            "\n",
            "     cat__Sex_F  cat__Sex_M  cat__ChestPainType_ASY  cat__ChestPainType_ATA  \\\n",
            "0           0.0         1.0                     1.0                     0.0   \n",
            "1           0.0         1.0                     0.0                     0.0   \n",
            "2           0.0         1.0                     1.0                     0.0   \n",
            "3           0.0         1.0                     0.0                     0.0   \n",
            "4           0.0         1.0                     0.0                     0.0   \n",
            "..          ...         ...                     ...                     ...   \n",
            "637         0.0         1.0                     0.0                     1.0   \n",
            "638         0.0         1.0                     0.0                     0.0   \n",
            "639         1.0         0.0                     0.0                     1.0   \n",
            "640         0.0         1.0                     0.0                     1.0   \n",
            "641         0.0         1.0                     0.0                     0.0   \n",
            "\n",
            "     cat__ChestPainType_NAP  cat__ChestPainType_TA  cat__RestingECG_LVH  \\\n",
            "0                       0.0                    0.0                  0.0   \n",
            "1                       1.0                    0.0                  0.0   \n",
            "2                       0.0                    0.0                  0.0   \n",
            "3                       1.0                    0.0                  0.0   \n",
            "4                       0.0                    1.0                  0.0   \n",
            "..                      ...                    ...                  ...   \n",
            "637                     0.0                    0.0                  0.0   \n",
            "638                     1.0                    0.0                  0.0   \n",
            "639                     0.0                    0.0                  0.0   \n",
            "640                     0.0                    0.0                  0.0   \n",
            "641                     0.0                    1.0                  1.0   \n",
            "\n",
            "     cat__RestingECG_Normal  cat__RestingECG_ST  cat__ExerciseAngina_N  \\\n",
            "0                       0.0                 1.0                    0.0   \n",
            "1                       0.0                 1.0                    0.0   \n",
            "2                       1.0                 0.0                    0.0   \n",
            "3                       1.0                 0.0                    1.0   \n",
            "4                       0.0                 1.0                    1.0   \n",
            "..                      ...                 ...                    ...   \n",
            "637                     1.0                 0.0                    1.0   \n",
            "638                     1.0                 0.0                    1.0   \n",
            "639                     1.0                 0.0                    1.0   \n",
            "640                     1.0                 0.0                    1.0   \n",
            "641                     0.0                 0.0                    1.0   \n",
            "\n",
            "     cat__ExerciseAngina_Y  cat__ST_Slope_Down  cat__ST_Slope_Flat  \\\n",
            "0                      1.0                 0.0                 1.0   \n",
            "1                      1.0                 0.0                 1.0   \n",
            "2                      1.0                 0.0                 0.0   \n",
            "3                      0.0                 0.0                 1.0   \n",
            "4                      0.0                 0.0                 1.0   \n",
            "..                     ...                 ...                 ...   \n",
            "637                    0.0                 0.0                 0.0   \n",
            "638                    0.0                 0.0                 0.0   \n",
            "639                    0.0                 0.0                 0.0   \n",
            "640                    0.0                 0.0                 0.0   \n",
            "641                    0.0                 0.0                 1.0   \n",
            "\n",
            "     cat__ST_Slope_Up  \n",
            "0                 0.0  \n",
            "1                 0.0  \n",
            "2                 1.0  \n",
            "3                 0.0  \n",
            "4                 0.0  \n",
            "..                ...  \n",
            "637               1.0  \n",
            "638               1.0  \n",
            "639               1.0  \n",
            "640               1.0  \n",
            "641               0.0  \n",
            "\n",
            "[642 rows x 19 columns]\n",
            "     num__Age  num__RestingBP  num__Cholesterol  num__FastingBS  num__MaxHR  \\\n",
            "0   -1.675360       -0.962202         -1.851913       -0.552158   -0.363748   \n",
            "1   -1.463610       -2.026617         -1.851913        1.811077    0.260445   \n",
            "2   -0.510738        0.368318          0.315281       -0.552158    0.104397   \n",
            "3    0.230385       -0.696098         -1.851913       -0.552158   -1.573120   \n",
            "4    0.230385       -0.163890         -0.147795       -0.552158   -1.456084   \n",
            "..        ...             ...               ...             ...         ...   \n",
            "271  0.018635       -0.163890         -1.851913       -0.552158   -0.792880   \n",
            "272 -1.992984        0.368318         -0.305240       -0.552158    0.494517   \n",
            "273 -0.404863        0.581201          1.380355       -0.552158   -0.675844   \n",
            "274 -0.616613       -0.696098         -0.045918       -0.552158   -0.480784   \n",
            "275  2.242004        1.964940          0.028174        1.811077   -1.143988   \n",
            "\n",
            "     cat__Sex_F  cat__Sex_M  cat__ChestPainType_ASY  cat__ChestPainType_ATA  \\\n",
            "0           0.0         1.0                     0.0                     0.0   \n",
            "1           0.0         1.0                     1.0                     0.0   \n",
            "2           0.0         1.0                     1.0                     0.0   \n",
            "3           0.0         1.0                     0.0                     0.0   \n",
            "4           0.0         1.0                     0.0                     1.0   \n",
            "..          ...         ...                     ...                     ...   \n",
            "271         0.0         1.0                     1.0                     0.0   \n",
            "272         1.0         0.0                     1.0                     0.0   \n",
            "273         0.0         1.0                     1.0                     0.0   \n",
            "274         1.0         0.0                     0.0                     0.0   \n",
            "275         0.0         1.0                     1.0                     0.0   \n",
            "\n",
            "     cat__ChestPainType_NAP  cat__ChestPainType_TA  cat__RestingECG_LVH  \\\n",
            "0                       1.0                    0.0                  0.0   \n",
            "1                       0.0                    0.0                  0.0   \n",
            "2                       0.0                    0.0                  0.0   \n",
            "3                       1.0                    0.0                  0.0   \n",
            "4                       0.0                    0.0                  0.0   \n",
            "..                      ...                    ...                  ...   \n",
            "271                     0.0                    0.0                  0.0   \n",
            "272                     0.0                    0.0                  0.0   \n",
            "273                     0.0                    0.0                  1.0   \n",
            "274                     1.0                    0.0                  0.0   \n",
            "275                     0.0                    0.0                  0.0   \n",
            "\n",
            "     cat__RestingECG_Normal  cat__RestingECG_ST  cat__ExerciseAngina_N  \\\n",
            "0                       1.0                 0.0                    0.0   \n",
            "1                       0.0                 1.0                    1.0   \n",
            "2                       1.0                 0.0                    0.0   \n",
            "3                       1.0                 0.0                    1.0   \n",
            "4                       1.0                 0.0                    1.0   \n",
            "..                      ...                 ...                    ...   \n",
            "271                     0.0                 1.0                    0.0   \n",
            "272                     1.0                 0.0                    1.0   \n",
            "273                     0.0                 0.0                    0.0   \n",
            "274                     1.0                 0.0                    1.0   \n",
            "275                     0.0                 1.0                    1.0   \n",
            "\n",
            "     cat__ExerciseAngina_Y  cat__ST_Slope_Down  cat__ST_Slope_Flat  \\\n",
            "0                      1.0                 0.0                 1.0   \n",
            "1                      0.0                 0.0                 0.0   \n",
            "2                      1.0                 0.0                 1.0   \n",
            "3                      0.0                 0.0                 1.0   \n",
            "4                      0.0                 0.0                 0.0   \n",
            "..                     ...                 ...                 ...   \n",
            "271                    1.0                 0.0                 1.0   \n",
            "272                    0.0                 0.0                 0.0   \n",
            "273                    1.0                 0.0                 0.0   \n",
            "274                    0.0                 0.0                 0.0   \n",
            "275                    0.0                 0.0                 1.0   \n",
            "\n",
            "     cat__ST_Slope_Up  \n",
            "0                 0.0  \n",
            "1                 1.0  \n",
            "2                 0.0  \n",
            "3                 0.0  \n",
            "4                 1.0  \n",
            "..                ...  \n",
            "271               0.0  \n",
            "272               1.0  \n",
            "273               1.0  \n",
            "274               1.0  \n",
            "275               0.0  \n",
            "\n",
            "[276 rows x 19 columns]\n"
          ]
        }
      ]
    },
    {
      "cell_type": "code",
      "source": [
        "#IF THE CATEGORICAL DATA WAS THERE WE USE LABLE ENCODING OR ONE HOT ENCODING\n",
        "#SINCE WE HAVE 0 OR 1 BINARY WE SKIP THE STEP\n",
        "\n",
        "#STEP5:TRAIN MODEL\n",
        "\n",
        "#WE USE LOGISTIC REGRESSION MODEL HERE, WHICH PREDICTS PROBABIULITY OF HEART DISEASE AND USE SIGMOID FUNCTION INTERNALLY TO SQUASH PROBABILITY NUMBERS TO 0 OR 1\n",
        "\n",
        "from sklearn.linear_model import LogisticRegression\n",
        "\n",
        "\n",
        "log_reg=LogisticRegression(max_iter=10000) # CREATE OBJECT FOR MODEL\n",
        "\n",
        "log_reg.fit(X_train_preprocessed,Y_train)\n",
        "\n",
        "#STEP 6 : PREDICTION\n",
        "\n",
        "y_pred=log_reg.predict(X_test_preprocessed)\n",
        "\n",
        "print(y_pred)\n",
        "\n"
      ],
      "metadata": {
        "colab": {
          "base_uri": "https://localhost:8080/"
        },
        "id": "6p-m26tJbQx1",
        "outputId": "e4032b2b-db57-45c5-842d-1adb1405c7c5"
      },
      "execution_count": 48,
      "outputs": [
        {
          "output_type": "stream",
          "name": "stdout",
          "text": [
            "[1 1 1 1 0 0 1 1 0 1 1 0 1 0 1 1 0 1 1 0 1 1 1 1 1 0 1 0 0 1 1 1 0 0 1 1 1\n",
            " 0 1 1 0 0 0 1 0 1 0 0 0 0 0 1 1 1 1 1 1 0 0 1 0 0 0 1 1 1 1 0 0 1 0 0 1 0\n",
            " 1 1 1 0 0 0 0 1 0 1 0 1 0 1 0 0 0 0 1 1 1 1 1 1 0 1 0 1 1 1 0 1 1 0 1 1 1\n",
            " 0 0 0 1 1 1 1 0 0 0 0 0 1 1 0 1 0 0 1 1 1 1 0 0 1 1 0 1 0 1 1 1 1 1 0 1 1\n",
            " 1 1 1 0 0 1 1 1 0 1 1 0 1 1 0 1 1 0 0 0 1 1 1 1 0 0 0 0 1 1 0 0 0 1 0 0 1\n",
            " 1 1 0 0 1 1 0 0 1 0 0 1 1 1 0 1 0 0 1 1 0 1 1 0 1 0 1 0 0 0 0 1 1 1 1 1 1\n",
            " 0 1 0 1 0 1 1 0 1 0 1 1 1 1 0 0 1 1 0 1 0 0 1 0 0 1 1 1 1 1 0 1 1 1 1 1 0\n",
            " 0 1 1 1 0 1 1 1 0 1 0 1 1 0 1 0 1]\n"
          ]
        }
      ]
    },
    {
      "cell_type": "code",
      "source": [
        "#STEP 7 : EVALUATION PERFORMANCE\n",
        "\n",
        "from sklearn.metrics import confusion_matrix,accuracy_score\n",
        "\n",
        "accuracy=accuracy_score(Y_test,y_pred)\n",
        "print(f\"ACCURACY SCORE : {accuracy}\")\n",
        "print(f\"CONFUSION MATRIX \\n: {confusion_matrix(Y_test,y_pred)}\")"
      ],
      "metadata": {
        "colab": {
          "base_uri": "https://localhost:8080/"
        },
        "id": "LgHAXZmbn68K",
        "outputId": "bad666bf-9ad4-428f-dd38-ddcff8107d12"
      },
      "execution_count": 51,
      "outputs": [
        {
          "output_type": "stream",
          "name": "stdout",
          "text": [
            "ACCURACY SCORE : 0.8659420289855072\n",
            "CONFUSION MATRIX \n",
            ": [[103  24]\n",
            " [ 13 136]]\n"
          ]
        }
      ]
    }
  ]
}